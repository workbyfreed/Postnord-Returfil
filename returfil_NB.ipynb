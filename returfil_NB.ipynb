{
 "cells": [
  {
   "cell_type": "code",
   "execution_count": null,
   "id": "ec527796",
   "metadata": {},
   "outputs": [],
   "source": [
    "# Import needed packages\n",
    "from csv import reader\n",
    "import pandas as pd\n",
    "from datetime import date"
   ]
  },
  {
   "cell_type": "code",
   "execution_count": null,
   "id": "58f08a5b",
   "metadata": {},
   "outputs": [],
   "source": [
    "url = '~/temp/Postnord_returfil/1293898141.20240902.txt'\n",
    "\n",
    "# save filename for output file\n",
    "filename = url.split('/')[-1].split('.')[-3]\n",
    "\n",
    "#Create a list of list from file, each cohesive record starts with 20 which is our mark to start a new sublist\n",
    "\n",
    "returlist = []\n",
    "sublist = []\n",
    "with open(url, 'r') as file:\n",
    "    returfil = reader(file)\n",
    "    for row in returfil:\n",
    "        prefix = int(row[0][:2])\n",
    "        value = row[0][2:].strip()\n",
    "        tolist = [prefix, value]\n",
    "        if prefix == 20:\n",
    "            returlist.append(sublist)\n",
    "            sublist = []\n",
    "        if prefix >= 20 and prefix <= 50:\n",
    "            sublist.append(tolist)\n",
    "\n",
    "print(filename)"
   ]
  },
  {
   "cell_type": "code",
   "execution_count": null,
   "id": "88d26215",
   "metadata": {},
   "outputs": [],
   "source": [
    "# Create empty dataframe with some example columns, missing columns will be added when concat\n",
    "\n",
    "test2 = pd.DataFrame(columns=[20, 21, 22, 23])\n",
    "\n",
    "# Loop through returlist, skipping for first empty sublist and create a dataframe per sublist\n",
    "# Then concatenate each temp dataframe to test2 dataframe, creating a full dataframe with all rows from returlist\n",
    "\n",
    "for i in returlist[1:]:\n",
    "    temp = pd.DataFrame(i, columns=['Prefix', 'Value'])\n",
    "    temp = temp.set_index('Prefix').T\n",
    "    \n",
    "    frames = [test2, temp]\n",
    "    test2 = pd.concat(frames)\n",
    "\n",
    "test2.head()"
   ]
  },
  {
   "cell_type": "code",
   "execution_count": null,
   "id": "e7a079d7",
   "metadata": {},
   "outputs": [],
   "source": [
    "# Reorder columns in number order\n",
    "\n",
    "test2 = test2.reindex(sorted(test2.columns), axis=1)\n",
    "\n",
    "test2.head()"
   ]
  },
  {
   "cell_type": "code",
   "execution_count": 5,
   "id": "378630d1",
   "metadata": {},
   "outputs": [],
   "source": [
    "# Column map from to Postnord Fillayout\n",
    "\n",
    "dictmap = {\n",
    "20:'UppdateringsTyp'\n",
    ",21:'Registreringsdatum'\n",
    ",22:'Kontrollnummer'\n",
    ",23:'Mottagaridentitet'\n",
    ",24:'Förnamn'\n",
    ",25:'Efternamn/Företagsnamn'\n",
    ",26:'Från c/o adress'\n",
    ",27:'Från Gatunamn'\n",
    ",28:'Från Gatunummer'\n",
    ",29:'Från Litterabeteckning'\n",
    ",30:'Från Gatubeskrivning'\n",
    ",31:'Från Extra Adressinformation'\n",
    ",32:'Från Postnummer'\n",
    ",33:'Från Postort'\n",
    ",34:'Till c/o adress'\n",
    ",35:'Till Gatunamn'\n",
    ",36:'Till Gatunummer'\n",
    ",37:'Till litterabeteckning'\n",
    ",38:'Till Gatubeskrivning'\n",
    ",39:'Till Extra Adressinformation'\n",
    ",40:'Till Postnummer'\n",
    ",41:'Till Postort'\n",
    ",42:'Till Land'\n",
    ",50:'Obeställbar_Anledning'\n",
    "}"
   ]
  },
  {
   "cell_type": "code",
   "execution_count": null,
   "id": "98605b4d",
   "metadata": {},
   "outputs": [],
   "source": [
    "# Rename columns according to map\n",
    "\n",
    "test2 = test2.rename(columns=dictmap)\n",
    "test2.head()"
   ]
  },
  {
   "cell_type": "code",
   "execution_count": 7,
   "id": "afac0028",
   "metadata": {},
   "outputs": [],
   "source": [
    "# Date for file name and save to csv\n",
    "\n",
    "today = date.today().isoformat()\n",
    "\n",
    "test2.to_csv('C:/Users/dafr01/Downloads/temp/Postnord_returfil/{0}.{1}.csv'.format(filename, today), sep=';',\n",
    "             index=False, encoding='utf-8-sig')"
   ]
  }
 ],
 "metadata": {
  "kernelspec": {
   "display_name": "Python 3 (ipykernel)",
   "language": "python",
   "name": "python3"
  },
  "language_info": {
   "codemirror_mode": {
    "name": "ipython",
    "version": 3
   },
   "file_extension": ".py",
   "mimetype": "text/x-python",
   "name": "python",
   "nbconvert_exporter": "python",
   "pygments_lexer": "ipython3",
   "version": "3.11.5"
  }
 },
 "nbformat": 4,
 "nbformat_minor": 5
}
